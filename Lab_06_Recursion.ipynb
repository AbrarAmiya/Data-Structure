{
  "nbformat": 4,
  "nbformat_minor": 0,
  "metadata": {
    "colab": {
      "provenance": [],
      "authorship_tag": "ABX9TyMp2DLztPm8z1QLUyO1ymq7",
      "include_colab_link": true
    },
    "kernelspec": {
      "name": "python3",
      "display_name": "Python 3"
    },
    "language_info": {
      "name": "python"
    }
  },
  "cells": [
    {
      "cell_type": "markdown",
      "metadata": {
        "id": "view-in-github",
        "colab_type": "text"
      },
      "source": [
        "<a href=\"https://colab.research.google.com/github/AbrarAmiya/Data-Structure/blob/main/Lab_06_Recursion.ipynb\" target=\"_parent\"><img src=\"https://colab.research.google.com/assets/colab-badge.svg\" alt=\"Open In Colab\"/></a>"
      ]
    },
    {
      "cell_type": "code",
      "execution_count": 1,
      "metadata": {
        "colab": {
          "base_uri": "https://localhost:8080/"
        },
        "id": "UPpk4oVf7GvB",
        "outputId": "819c6e48-393a-46e9-bb86-0ef698274566"
      },
      "outputs": [
        {
          "output_type": "stream",
          "name": "stdout",
          "text": [
            "enter: 3\n",
            "6\n"
          ]
        }
      ],
      "source": [
        "# 1(a)\n",
        "\n",
        "def factorial(n):\n",
        "  if n==0:\n",
        "    return 1\n",
        "  return n*factorial(n-1)\n",
        "\n",
        "n=int(input(\"enter: \"))\n",
        "print(factorial(n))\n"
      ]
    },
    {
      "cell_type": "code",
      "source": [
        "# 1(b)\n",
        "\n",
        "def fibo(n):\n",
        "  if n==0:\n",
        "    return 0\n",
        "  elif n==1:\n",
        "    return 1\n",
        "  else:\n",
        "    return fibo(n-1)+fibo(n-2)\n",
        "n=int(input(\"enter: \"))\n",
        "print(fibo(n))\n"
      ],
      "metadata": {
        "colab": {
          "base_uri": "https://localhost:8080/"
        },
        "id": "-IwpL2nI7OF6",
        "outputId": "68133fde-dc4f-4de9-ca4a-22522e13b51d"
      },
      "execution_count": 2,
      "outputs": [
        {
          "output_type": "stream",
          "name": "stdout",
          "text": [
            "enter: 4\n",
            "3\n"
          ]
        }
      ]
    },
    {
      "cell_type": "code",
      "source": [
        "# 1(c)\n",
        "\n",
        "def printarray(a,idx):\n",
        "  if idx<len(a):\n",
        "    print(a[idx])\n",
        "    printarray(a,idx+1)\n",
        "printarray([10,20,30,40,50],0)"
      ],
      "metadata": {
        "colab": {
          "base_uri": "https://localhost:8080/"
        },
        "id": "hDcjBLJk7PgK",
        "outputId": "b0d181be-4ed4-464b-885e-af229f1c0e87"
      },
      "execution_count": 3,
      "outputs": [
        {
          "output_type": "stream",
          "name": "stdout",
          "text": [
            "10\n",
            "20\n",
            "30\n",
            "40\n",
            "50\n"
          ]
        }
      ]
    },
    {
      "cell_type": "code",
      "source": [
        "# 1(d)\n",
        "\n",
        "def power(n,p):\n",
        "  if p==0:\n",
        "    return 1 \n",
        "  return n*power(n,p-1)\n",
        "power(3,2)\n"
      ],
      "metadata": {
        "colab": {
          "base_uri": "https://localhost:8080/"
        },
        "id": "kmrL8DCF7RCw",
        "outputId": "98af90a0-77c0-4f70-d880-553eddf8332e"
      },
      "execution_count": 4,
      "outputs": [
        {
          "output_type": "execute_result",
          "data": {
            "text/plain": [
              "9"
            ]
          },
          "metadata": {},
          "execution_count": 4
        }
      ]
    },
    {
      "cell_type": "code",
      "source": [
        "# 2(a)\n",
        "\n",
        "def dectobin(n):\n",
        "  rem=n%2\n",
        "  if n>0:\n",
        "    dectobin(n//2)\n",
        "    print(rem,end=\"\")\n",
        "n=int(input(\"enter: \"))\n",
        "dectobin(n)\n"
      ],
      "metadata": {
        "colab": {
          "base_uri": "https://localhost:8080/"
        },
        "id": "JvFNz6kg7UGf",
        "outputId": "00c6ed32-e0a0-45f0-e1bf-56423833d241"
      },
      "execution_count": 5,
      "outputs": [
        {
          "output_type": "stream",
          "name": "stdout",
          "text": [
            "enter: 4\n",
            "100"
          ]
        }
      ]
    },
    {
      "cell_type": "code",
      "source": [
        "# 2(b and c)\n",
        "class Node:\n",
        "  def __init__(self, e, n):\n",
        "    self.element = e\n",
        "    self.next = n\n",
        "class LinkedList:\n",
        "  \n",
        "  def __init__(self, a):\n",
        "    self.head = Node(None,None)\n",
        "    if type(a)==list:\n",
        "      self.head=Node(a[0],None)\n",
        "      tail=self.head\n",
        "      for i in range(1,len(a)):\n",
        "        newNode=Node(a[i],None)\n",
        "        tail.next=newNode\n",
        "        tail=tail.next\n",
        "    else:\n",
        "      self.head=a\n",
        "# 2(b)\n",
        "def addfull(k):\n",
        "  if k==None:\n",
        "    return 0\n",
        "  return k.element+addfull(k.next)\n",
        "\n",
        "# 2(c)\n",
        "def reverse(j):\n",
        "  if j.next==None:\n",
        "    print (j.element)\n",
        "    return\n",
        "  elif j.next!=None:\n",
        "      reverse(j.next)\n",
        "      print(j.element)\n",
        "\n",
        "print(\"answer b: \\n\")\n",
        "l=LinkedList([10,20,30,40])\n",
        "print(addfull(l.head))\n",
        "print()\n",
        "print(\"answer c: \\n\")\n",
        "revH=reverse(l.head)\n",
        "R=LinkedList(revH)\n"
      ],
      "metadata": {
        "colab": {
          "base_uri": "https://localhost:8080/"
        },
        "id": "aaMrHzC87VsX",
        "outputId": "6553292a-e0e2-4b33-9ff3-d59a5bd57d8a"
      },
      "execution_count": 9,
      "outputs": [
        {
          "output_type": "stream",
          "name": "stdout",
          "text": [
            "answer b: \n",
            "\n",
            "100\n",
            "\n",
            "answer c: \n",
            "\n",
            "40\n",
            "30\n",
            "20\n",
            "10\n"
          ]
        }
      ]
    },
    {
      "cell_type": "code",
      "source": [
        "# 3\n",
        "\n",
        "def hocBuilder(height): \n",
        "  if height==0:\n",
        "    return 0\n",
        "  elif height==1:\n",
        "    return 8\n",
        "  else:\n",
        "    return 5+hocBuilder(height-1)\n",
        "height=int(input(\"enter: \"))\n",
        "print(hocBuilder(height))"
      ],
      "metadata": {
        "colab": {
          "base_uri": "https://localhost:8080/"
        },
        "id": "KKMRQ04r7wCd",
        "outputId": "4e2e9c05-4ddb-44b6-d804-b8a16f178397"
      },
      "execution_count": 7,
      "outputs": [
        {
          "output_type": "stream",
          "name": "stdout",
          "text": [
            "enter: 4\n",
            "23\n"
          ]
        }
      ]
    },
    {
      "cell_type": "code",
      "source": [
        "# 4(a)\n",
        "\n",
        "def pattern(n,l=str(1)):\n",
        "  if n>0:\n",
        "    print(l)\n",
        "    l+=\" \"+str(int(l[-1])+1)\n",
        "    pattern(n-1,l)\n",
        "pattern(5)\n"
      ],
      "metadata": {
        "colab": {
          "base_uri": "https://localhost:8080/"
        },
        "id": "AJ_4ROUd8kWP",
        "outputId": "9fad8d57-2b9d-4e76-99d6-bb168ee18e2f"
      },
      "execution_count": 10,
      "outputs": [
        {
          "output_type": "stream",
          "name": "stdout",
          "text": [
            "1\n",
            "1 2\n",
            "1 2 3\n",
            "1 2 3 4\n",
            "1 2 3 4 5\n"
          ]
        }
      ]
    },
    {
      "cell_type": "code",
      "source": [
        "# 4(b)\n",
        "\n",
        "def temp(k,i):\n",
        "    if i<=k:\n",
        "        print(i, end=\"\")\n",
        "        temp(k,i+1)\n",
        "\n",
        "def pattern2(n,l=5):\n",
        "    x=n-1\n",
        "    if n>0:\n",
        "        print(\" \"*x, end=\"\")\n",
        "        y=l-x \n",
        "        temp(y, 1)\n",
        "        print()\n",
        "        pattern2(n-1,l)\n",
        "pattern2(5)"
      ],
      "metadata": {
        "colab": {
          "base_uri": "https://localhost:8080/"
        },
        "id": "0RWy85A08ldA",
        "outputId": "ac579e9f-dc8a-4441-a33c-0e62f7dd1f2f"
      },
      "execution_count": 11,
      "outputs": [
        {
          "output_type": "stream",
          "name": "stdout",
          "text": [
            "    1\n",
            "   12\n",
            "  123\n",
            " 1234\n",
            "12345\n"
          ]
        }
      ]
    },
    {
      "cell_type": "code",
      "source": [
        "# 5\n",
        "\n",
        "class FinalQ:\n",
        "    def print(self,array,idx):\n",
        "        if(idx < len(array)):\n",
        "            profit = self.calcProfit(array[idx])\n",
        "            print(\"Investment:\",array[idx],\"Profit:\",profit)\n",
        "            self.print(array,idx+1)\n",
        "\n",
        "    def calcProfit(self,investment):\n",
        "        if investment<=25000:\n",
        "          return 0.0\n",
        "        elif investment>25000 and investment<=100000:\n",
        "          return 45 + self.calcProfit(investment-1000)\n",
        "        else:\n",
        "          return 80 + self.calcProfit(investment-1000)\n",
        "\n",
        "array=[25000,100000,250000,350000] \n",
        "f = FinalQ() \n",
        "f.print(array,0)"
      ],
      "metadata": {
        "colab": {
          "base_uri": "https://localhost:8080/"
        },
        "id": "HUHWGfAc8pZk",
        "outputId": "c42587f2-d9bc-403d-c7ab-6a640fb36de0"
      },
      "execution_count": 12,
      "outputs": [
        {
          "output_type": "stream",
          "name": "stdout",
          "text": [
            "Investment: 25000 Profit: 0.0\n",
            "Investment: 100000 Profit: 3375.0\n",
            "Investment: 250000 Profit: 15375.0\n",
            "Investment: 350000 Profit: 23375.0\n"
          ]
        }
      ]
    }
  ]
}