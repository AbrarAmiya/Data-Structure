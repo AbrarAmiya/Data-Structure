{
  "nbformat": 4,
  "nbformat_minor": 0,
  "metadata": {
    "colab": {
      "provenance": [],
      "include_colab_link": true
    },
    "kernelspec": {
      "name": "python3",
      "display_name": "Python 3"
    },
    "language_info": {
      "name": "python"
    }
  },
  "cells": [
    {
      "cell_type": "markdown",
      "metadata": {
        "id": "view-in-github",
        "colab_type": "text"
      },
      "source": [
        "<a href=\"https://colab.research.google.com/github/AbrarAmiya/Data-Structure/blob/main/Lab_01_220.ipynb\" target=\"_parent\"><img src=\"https://colab.research.google.com/assets/colab-badge.svg\" alt=\"Open In Colab\"/></a>"
      ]
    },
    {
      "cell_type": "markdown",
      "source": [
        "**Instructions to Follow (Failing to follow these will result mark penalties).**\n",
        "\n",
        "\n",
        "1.   You can not use any built-in function except len()\n",
        "2.   You can not use any other python collections except list (e.g: tuptle, dictionaries etc.)\n",
        "3. If you need to initialize a new array using python list, you must mention the fixed size during initialization. There might be two approach. However, initializing new array in this lab is not mandatory.\n",
        "\n",
        "  i. arr = [None] * 10 #Initializing an array length 10 with values None.\n",
        "\n",
        "  ii. arr = [10, 20, 30, 40] #Initializing an array length 4 with the values.\n",
        "\n",
        "\n",
        "\n",
        "\n"
      ],
      "metadata": {
        "id": "lJl5kEU9s6VF"
      }
    },
    {
      "cell_type": "code",
      "execution_count": 2,
      "metadata": {
        "id": "nAE3YxgdLMa1",
        "colab": {
          "base_uri": "https://localhost:8080/"
        },
        "outputId": "6e88343e-bb2f-4862-8daf-94b17f485f51"
      },
      "outputs": [
        {
          "output_type": "stream",
          "name": "stdout",
          "text": [
            "Looking in indexes: https://pypi.org/simple, https://us-python.pkg.dev/colab-wheels/public/simple/\n",
            "Collecting fhm-unittest\n",
            "  Downloading fhm_unittest-1.0.0-py3-none-any.whl (2.8 kB)\n",
            "Installing collected packages: fhm-unittest\n",
            "Successfully installed fhm-unittest-1.0.0\n",
            "Looking in indexes: https://pypi.org/simple, https://us-python.pkg.dev/colab-wheels/public/simple/\n",
            "Collecting fuzzywuzzy\n",
            "  Downloading fuzzywuzzy-0.18.0-py2.py3-none-any.whl (18 kB)\n",
            "Installing collected packages: fuzzywuzzy\n",
            "Successfully installed fuzzywuzzy-0.18.0\n"
          ]
        }
      ],
      "source": [
        "# You must run this cell to install dependency\n",
        "! pip3 install fhm-unittest\n",
        "! pip3 install fuzzywuzzy\n",
        "import fhm_unittest as unittest"
      ]
    },
    {
      "cell_type": "code",
      "source": [
        "# Complete the functions defined in this cell\n",
        "\n",
        "# Test 01: Shift Left k cell\n",
        "def shift_left(source, k):\n",
        "  i=0\n",
        "  while i<len(source)-k:\n",
        "    source[i]=source[i+k]\n",
        "    i+=1\n",
        "  count=len(source)-k\n",
        "  while count<len(source):\n",
        "    source[count]=0\n",
        "    count+=1\n",
        "  return source\n",
        "  \n",
        "\n",
        "\n",
        "\n",
        "# Test 02: Rotate Left k cell\n",
        "def rotate_left(source, k):\n",
        "  i=0\n",
        "  temp=[0]*k\n",
        "  for j in range(k):\n",
        "    temp[j]=source[j]\n",
        "\n",
        "\n",
        "\n",
        "  while i<len(source)-k:\n",
        "    source[i]=source[i+k]\n",
        "    i+=1\n",
        "  count=len(source)-k\n",
        "  x=0\n",
        "\n",
        "\n",
        "\n",
        "  while count<len(source):\n",
        "    source[count]=temp[x]\n",
        "    count+=1\n",
        "    x+=1\n",
        "  return source\n",
        "  \n",
        "\n",
        "\n",
        "# Test 03: Shift Right k cell\n",
        "def shift_right(source, k):\n",
        "  i=len(source)-1\n",
        "  while i>=k:\n",
        "    source[i]=source[i-k]\n",
        "    i-=1\n",
        "  counter=0\n",
        "  while counter<k:\n",
        "    source[counter]=0\n",
        "    counter+=1\n",
        "  return source\n",
        "  \n",
        "\n",
        "\n",
        "\n",
        "# Test 04: Rotate Right k cell\n",
        "def rotate_right(source, k):\n",
        "  i=len(source)-1\n",
        "  x=len(source)-1\n",
        "  temp=[None]*k\n",
        "  counter=k-1\n",
        "  while counter>=0:\n",
        "    temp[counter]=source[x]\n",
        "    counter-=1\n",
        "    x-=1\n",
        "  while i>=k:\n",
        "    source[i]=source[i-k]\n",
        "    i-=1\n",
        "  idx=0\n",
        "  while idx<len(temp):\n",
        "    source[idx]=temp[idx]\n",
        "    idx+=1\n",
        "  return source\n",
        "\n",
        "\n",
        "\n",
        "# Test 05: Remove an element from an array\n",
        "def remove(source, idx):\n",
        "  size=0\n",
        "  for i in range(len(source)):\n",
        "    if source[i]!=0:\n",
        "      size+=1\n",
        "  for i in range(len(source)):\n",
        "    if i==idx:\n",
        "      source[i]=0\n",
        "  while idx<size:\n",
        "    source[idx]=source[idx+1]\n",
        "    idx+=1\n",
        "  \n",
        "  return source\n",
        "  \n",
        "\n",
        "\n",
        "\n",
        "# Test 06: Remove all occurrences of a particular element from an array\n",
        "def remove_all(source, element):\n",
        "  for i in range(len(source)):\n",
        "    if element==source[i]:\n",
        "      source[i]=0\n",
        "  \n",
        "  \n",
        "  for i in range(len(source)-1):\n",
        "    for j in range(len(source)-1):\n",
        "      if source[j]==0:\n",
        "        source[j]=source[j+1]\n",
        "        source[j+1]=0\n",
        "    \n",
        "\n",
        "  return source\n",
        "\n",
        "\n",
        "\n",
        "# Test 07: Splitting an Array\n",
        "def split_array(a):\n",
        "  sum=0\n",
        "  for i in a:\n",
        "    sum+=i\n",
        "  left=0\n",
        "  right=sum\n",
        "  counter=0\n",
        "  true_count=0\n",
        "  while counter<len(a):\n",
        "    if left==right:\n",
        "      true_count+=1\n",
        "    left+=a[counter]\n",
        "    right-=a[counter]\n",
        "    counter+=1\n",
        "  if true_count>0:\n",
        "    return True\n",
        "  else:\n",
        "    return False\n",
        "  \n",
        "\n",
        "\n",
        "# Test 08: Max Bunch Count\n",
        "def max_bunch(a):\n",
        "  flag=0\n",
        "  counter=1\n",
        "  high=0\n",
        "  i=0\n",
        "  while i<len(a):\n",
        "    if flag==a[i]:\n",
        "      counter+=1\n",
        "      flag=a[i]\n",
        "      if counter>high:\n",
        "        high=counter\n",
        "    else:\n",
        "      flag=a[i]\n",
        "      counter=1\n",
        "    i+=1\n",
        "  return high\n"
      ],
      "metadata": {
        "id": "tnfvwKtmypPi"
      },
      "execution_count": 3,
      "outputs": []
    },
    {
      "cell_type": "code",
      "source": [
        "# This cell is the driver code\n",
        "# Run this cell after completion of above function.\n",
        "# You will see the status Accepted after completion if your code is correct.\n",
        "# If your function is wrong you will see wrong[correction percentage]\n",
        "# This is call unit testing if you are wondering the checking approach\n",
        "# No need to write or change any code here\n",
        "\n",
        "print(\"///  Test 01: Shift Left k cell  ///\")\n",
        "source = [10,20,30,40,50,60]\n",
        "returned_value = shift_left(source, 3) # This should return [40, 50, 60, 0, 0, 0]\n",
        "unittest.output_test(returned_value, [40, 50, 60, 0, 0, 0])\n",
        "\n",
        "\n",
        "print(\"///  Test 02: Rotate Left k cell  ///\")\n",
        "source = [10,20,30,40,50,60]\n",
        "returned_value = rotate_left(source, 3) # This should return [40, 50, 60, 10, 20, 30]\n",
        "unittest.output_test(returned_value, [40, 50, 60, 10, 20, 30])\n",
        "\n",
        "\n",
        "print(\"///  Test 03: Shift Right k cell  ///\")\n",
        "source = [10,20,30,40,50,60]\n",
        "returned_value = shift_right(source, 3) # This should return [0, 0, 0, 10, 20, 30]\n",
        "unittest.output_test(returned_value, [0, 0, 0, 10, 20, 30])\n",
        "\n",
        "\n",
        "print(\"///  Test 04: Rotate Right k cell  ///\")\n",
        "source = [10,20,30,40,50,60]\n",
        "returned_value = rotate_right(source, 3) # This should return [40, 50, 60, 10, 20, 30]\n",
        "unittest.output_test(returned_value, [40, 50, 60, 10, 20, 30])\n",
        "\n",
        "\n",
        "print(\"///  Test 05: Remove an element from an array  ///\")\n",
        "source = [10,20,30,40,50,0,0]\n",
        "returned_value = remove(source, 2) # This should return [10, 20, 40, 50, 0, 0, 0]\n",
        "unittest.output_test(returned_value, [10, 20, 40, 50, 0, 0, 0])\n",
        "\n",
        "\n",
        "print(\"///  Test 06: Remove all occurrences of a particular element from an array  ///\")\n",
        "source = [10,2,30,2,50,2,2,0,0]\n",
        "returned_value = remove_all(source, 2) # This should return [10, 30, 50, 0, 0, 0, 0, 0, 0]\n",
        "unittest.output_test(returned_value, [10, 30, 50, 0, 0, 0, 0, 0, 0])\n",
        "\n",
        "\n",
        "print(\"///  Test 07: Splitting an Array  ///\")\n",
        "test_1 = [1, 1, 1, 2, 1] # Here splitting is possible as summation of [1, 1, 1] = summation of [2,1]\n",
        "returned_value = split_array(test_1) # This should return True\n",
        "test_2 = [2, 1, 1, 2, 1] # Here splitting is not possible\n",
        "returned_value = split_array(test_2) # This should return False\n",
        "test_3 = [10, 3, 1, 2, 10] # Here splitting is possible as summation of [10, 3] = summation of [1,2,10]\n",
        "returned_value = split_array(test_3) # This should return True\n",
        "unittest.output_test(split_array(test_1), True)\n",
        "unittest.output_test(split_array(test_2), False)\n",
        "unittest.output_test(split_array(test_3), True)\n",
        "\n",
        "\n",
        "print(\"///  Test 08: Max Bunch Count  ///\")\n",
        "returned_value = max_bunch([1, 2, 2, 3, 4, 4, 4]) # This should return 3\n",
        "unittest.output_test(returned_value, 3)\n",
        "returned_value = max_bunch([1, 1, 2, 2, 1, 1, 1, 1]) # This should return 4\n",
        "unittest.output_test(returned_value, 4)\n"
      ],
      "metadata": {
        "id": "mrxIQ5rBhzPj",
        "colab": {
          "base_uri": "https://localhost:8080/"
        },
        "outputId": "deafcdd8-9382-46d6-e12b-0ddb57ea874c"
      },
      "execution_count": 4,
      "outputs": [
        {
          "output_type": "stream",
          "name": "stdout",
          "text": [
            "///  Test 01: Shift Left k cell  ///\n",
            "Accepted\n",
            "///  Test 02: Rotate Left k cell  ///\n",
            "Accepted\n",
            "///  Test 03: Shift Right k cell  ///\n",
            "Accepted\n",
            "///  Test 04: Rotate Right k cell  ///\n",
            "Accepted\n",
            "///  Test 05: Remove an element from an array  ///\n",
            "Accepted\n",
            "///  Test 06: Remove all occurrences of a particular element from an array  ///\n",
            "Accepted\n",
            "///  Test 07: Splitting an Array  ///\n",
            "Accepted\n",
            "Accepted\n",
            "Accepted\n",
            "///  Test 08: Max Bunch Count  ///\n",
            "Accepted\n",
            "Accepted\n"
          ]
        },
        {
          "output_type": "stream",
          "name": "stderr",
          "text": [
            "/usr/local/lib/python3.8/dist-packages/fuzzywuzzy/fuzz.py:11: UserWarning: Using slow pure-python SequenceMatcher. Install python-Levenshtein to remove this warning\n",
            "  warnings.warn('Using slow pure-python SequenceMatcher. Install python-Levenshtein to remove this warning')\n"
          ]
        }
      ]
    },
    {
      "cell_type": "markdown",
      "source": [
        "**PART - 2**  \t(Playing with Array and Probability Theory)"
      ],
      "metadata": {
        "id": "5IdzF7ROfEEm"
      }
    },
    {
      "cell_type": "code",
      "source": [
        "def mean(arr):\n",
        "  counter=0\n",
        "  sum=0\n",
        "  for i in arr:\n",
        "    counter+=1\n",
        "    sum+=i\n",
        "  return sum/counter\n",
        "\n",
        "def SD(arr):\n",
        "  sum=0\n",
        "  for i in arr:\n",
        "    sum+=((i-mean(arr))**2)\n",
        "  sd=(sum/(len(arr)-1))**0.5\n",
        "  return sd\n",
        "\n",
        "def newarr(arr):\n",
        "  lower=mean(arr)-SD(arr)*1.5\n",
        "  upper=mean(arr)+SD(arr)*1.5\n",
        "  print(\"Range:\",lower,\"to\",upper)\n",
        "  new=[]\n",
        "  for i in range(len(arr)):\n",
        "    if arr[i]<lower or arr[i]>upper:\n",
        "      new.append(arr[i])\n",
        "  return new\n",
        "\n",
        "\n",
        "\n",
        "  \n",
        "\n",
        "\n",
        "arr=[10, 8, 13, 9, 14, 25, -5, 20, 7, 7, 4]\n",
        "print(\"Mean:\",mean(arr))\n",
        "print(\"Standared Deviation: \",SD(arr))\n",
        "print(newarr(arr))"
      ],
      "metadata": {
        "colab": {
          "base_uri": "https://localhost:8080/"
        },
        "id": "eHabauowfJJO",
        "outputId": "f9b3a199-4837-42cc-ab3b-41aa0fc860c5"
      },
      "execution_count": 5,
      "outputs": [
        {
          "output_type": "stream",
          "name": "stdout",
          "text": [
            "Mean: 10.181818181818182\n",
            "Standared Deviation:  7.960127911260996\n",
            "Range: -1.7583736850733125 to 22.122010048709676\n",
            "[25, -5]\n"
          ]
        }
      ]
    },
    {
      "cell_type": "code",
      "source": [],
      "metadata": {
        "id": "6N-R3FvzLb8A"
      },
      "execution_count": 5,
      "outputs": []
    }
  ]
}