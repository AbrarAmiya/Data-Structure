{
  "nbformat": 4,
  "nbformat_minor": 0,
  "metadata": {
    "colab": {
      "provenance": [],
      "include_colab_link": true
    },
    "kernelspec": {
      "name": "python3",
      "display_name": "Python 3"
    },
    "language_info": {
      "name": "python"
    }
  },
  "cells": [
    {
      "cell_type": "markdown",
      "metadata": {
        "id": "view-in-github",
        "colab_type": "text"
      },
      "source": [
        "<a href=\"https://colab.research.google.com/github/AbrarAmiya/Data-Structure/blob/main/%5B_Parenthesis_Balancing.ipynb\" target=\"_parent\"><img src=\"https://colab.research.google.com/assets/colab-badge.svg\" alt=\"Open In Colab\"/></a>"
      ]
    },
    {
      "cell_type": "markdown",
      "source": [
        "Assignment Source: https://docs.google.com/document/d/1ypo5RtGUvV3V4hHMg1xDBnUqLVq-8JqP9kvs8zHQo9c/edit"
      ],
      "metadata": {
        "id": "MlXr6tkyke__"
      }
    },
    {
      "cell_type": "code",
      "execution_count": 25,
      "metadata": {
        "id": "c4qCI0sxkUQ1"
      },
      "outputs": [],
      "source": [
        "#Using Array\n",
        "class ArrayStack:\n",
        "    def __init__(self):\n",
        "      self.size=0\n",
        "      self.arr=[None]*100\n",
        "\n",
        "    #Returns The number of items on the stack\n",
        "    def size(self):\n",
        "      return self.size\n",
        "\n",
        "    #Returns true if the stack is empty\n",
        "    def isEmpty(self):\n",
        "      if(self.size==0):\n",
        "        return True\n",
        "      return False\n",
        "\n",
        "    #Pushes the new item on the stack\n",
        "    def push(self,e):\n",
        "        self.arr[self.size]=e\n",
        "        self.size+=1\n",
        "    #   pass\n",
        "\n",
        "    \n",
        "    #Pops the item on the top of the stack\n",
        "    def pop(self):\n",
        "        temp=None\n",
        "        if self.size==0:\n",
        "            return 'Empty Stack'\n",
        "        else:\n",
        "            temp=self.arr[self.size-1]\n",
        "            self.arr[self.size-1]=None\n",
        "            self.size-=1\n",
        "        return temp\n",
        "\n",
        "    #   pass\n",
        "\n",
        "    #Returns the item on the top of the stack\n",
        "    def peek(self):\n",
        "        return self.arr[self.size-1]\n",
        "    #   pass\n",
        "\n",
        "    #Print all items of the stack \n",
        "    def stackPrint(self):\n",
        "      for i in range(self.size):\n",
        "          print(self.arr[i],end=\" \")"
      ]
    },
    {
      "cell_type": "code",
      "source": [
        "s=\"1+2*[3*3+{4–5(6(7/8/9)+10)–11+(12*8)]+14\"\n",
        "a=ArrayStack()\n",
        "open=['(', '{', '[']\n",
        "close=[')', '}', ']']\n",
        "def checker(a, b):\n",
        "    if a == \"(\" and b == \")\":\n",
        "        return True\n",
        "    elif a == \"{\" and b == \"}\":\n",
        "        return True\n",
        "    elif a == \"[\" and b ==\"]\":\n",
        "        return True\n",
        "    else:\n",
        "        return False\n",
        "\n",
        "        \n",
        "temp=None\n",
        "index_call=ArrayStack()\n",
        "balancing_check=True\n",
        "\n",
        "for i in range(len(s)):\n",
        "    if s[i] not in open and s[i] not in close:\n",
        "        continue\n",
        "    if s[i] not in open:\n",
        "        if a.isEmpty() and s[i] in close:\n",
        "            temp=s[i]\n",
        "            index_call.push(i + 1)\n",
        "            balancing_check=False\n",
        "            break\n",
        "        temp=a.pop()\n",
        "        balancing_check=checker(temp, s[i])\n",
        "        if balancing_check==True:\n",
        "            index_call.pop()\n",
        "    else:\n",
        "        a.push(s[i])\n",
        "        index_call.push(i + 1)\n",
        "\n",
        "if balancing_check==True:\n",
        "    print(\"This expression is correct.\")\n",
        "else:\n",
        "    if not a.isEmpty():\n",
        "        print('This expression is NOT correct.')\n",
        "        print('Error at character # ' + str(index_call.peek()) + '. \\'' + str(temp) + '\\'- not closed.')\n",
        "\n",
        "    else:\n",
        "        if balancing_check==False:\n",
        "            print('This expression is NOT correct.')\n",
        "            print('Error at character # ' + str(index_call.peek()) + '. \\'' + str(temp) + '\\'- not opened.')\n",
        "\n",
        "\n",
        "\n",
        "\n",
        "\n",
        "\n",
        "\n",
        "\n",
        "\n",
        "\n",
        "\n",
        "\n"
      ],
      "metadata": {
        "id": "dC2CoKjZuUkW",
        "colab": {
          "base_uri": "https://localhost:8080/"
        },
        "outputId": "5b9e2480-f449-49fb-a277-a15499c454ff"
      },
      "execution_count": 26,
      "outputs": [
        {
          "output_type": "stream",
          "name": "stdout",
          "text": [
            "This expression is NOT correct.\n",
            "Error at character # 10. '{'- not closed.\n"
          ]
        }
      ]
    },
    {
      "cell_type": "code",
      "source": [
        "\n",
        "class Node:\n",
        "  def __init__(self, e, n):\n",
        "    self.element = e\n",
        "    self.next = n"
      ],
      "metadata": {
        "id": "zOeG6mEAy1UO"
      },
      "execution_count": 28,
      "outputs": []
    },
    {
      "cell_type": "code",
      "source": [
        "#Using Linked List\n",
        "class ListStack:\n",
        "    def __init__(self):\n",
        "      self.size=0\n",
        "      self.top=None\n",
        "\n",
        "    #Returns The number of items on the stack\n",
        "    def size(self):\n",
        "      return self.size\n",
        "\n",
        "    #Returns true if the stack is empty\n",
        "    def isEmpty(self):\n",
        "      if(self.size==0):\n",
        "        return True\n",
        "      return False\n",
        "\n",
        "    #Pushes the new item on the stack\n",
        "    def push(self,e):\n",
        "        new_elem=Node(e, None)\n",
        "        if self.size==0:\n",
        "            self.top=new_elem\n",
        "        else:\n",
        "            new_elem.next=self.top\n",
        "            self.top=new_elem\n",
        "        self.size+=1\n",
        "        # pass\n",
        "    \n",
        "    #Pops the item on the top of the stack\n",
        "    def pop(self):\n",
        "        temp=self.top\n",
        "        self.top=self.top.next\n",
        "        self.size-=1\n",
        "        return temp.element\n",
        "        # pass\n",
        "    #Returns the item on the top of the stack\n",
        "    def peek(self):\n",
        "        return self.top.element\n",
        "        # pass\n",
        "\n",
        "    #Print all items of the stack \n",
        "    def listPrint(self):\n",
        "      t=self.top\n",
        "      while(t!=None):\n",
        "          print(t.element,end=\" \")\n",
        "          t=t.next"
      ],
      "metadata": {
        "id": "QwRms9e08LE2"
      },
      "execution_count": 29,
      "outputs": []
    },
    {
      "cell_type": "code",
      "source": [
        "s=\"1+2*[3*3+{4–5(6(7/8/9)+10)–11+(12*8)]+14\"\n",
        "\n",
        "a=ListStack()\n",
        "#complete your task here\n",
        "\n",
        "open_arr=['(','{','[']\n",
        "close_arr=[')','}',']']\n",
        "def bracket_check(a, b):\n",
        "    if a == \"(\" and b == \")\":\n",
        "        return True\n",
        "    elif a == \"{\" and b == \"}\":\n",
        "        return True\n",
        "    elif a == \"[\" and b ==\"]\":\n",
        "        return True\n",
        "    else:\n",
        "        return False\n",
        "temp=None\n",
        "idx=ListStack()\n",
        "balanced=True\n",
        "\n",
        "for i in range(len(s)):\n",
        "    if s[i] in open_arr or s[i] in close_arr:\n",
        "        if s[i] in open_arr:\n",
        "            a.push(s[i])\n",
        "            idx.push(i+1)\n",
        "        else:\n",
        "            if a.isEmpty() and s[i] in close_arr:\n",
        "                temp=s[i]\n",
        "                idx.push(i+1)\n",
        "                balanced=False\n",
        "                break\n",
        "            temp=a.pop()\n",
        "            balanced=bracket_check(temp, s[i])\n",
        "            if balanced==True:\n",
        "                idx.pop()\n",
        "\n",
        "if balanced==True:\n",
        "    print(\"This expression is correct.\")\n",
        "else:\n",
        "    if not a.isEmpty():\n",
        "        print('This expression is NOT correct.')\n",
        "        print('Error at character # '+str(idx.peek())+'. \\''+str(temp)+'\\'- not closed.')\n",
        "\n",
        "    else:\n",
        "        if balanced==False:\n",
        "            print('This expression is NOT correct.')\n",
        "            print('Error at character # '+str(idx.peek())+'. \\''+str(temp)+'\\'- not opened.')"
      ],
      "metadata": {
        "id": "LC4_Mu3suOFp",
        "colab": {
          "base_uri": "https://localhost:8080/"
        },
        "outputId": "96049e03-ec8b-47e1-b7ad-4d4f309692d0"
      },
      "execution_count": 30,
      "outputs": [
        {
          "output_type": "stream",
          "name": "stdout",
          "text": [
            "This expression is NOT correct.\n",
            "Error at character # 10. '{'- not closed.\n"
          ]
        }
      ]
    },
    {
      "cell_type": "code",
      "source": [],
      "metadata": {
        "id": "8N9_pd9AugVj"
      },
      "execution_count": 30,
      "outputs": []
    }
  ]
}